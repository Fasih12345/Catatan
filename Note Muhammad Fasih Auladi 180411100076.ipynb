{
 "cells": [
  {
   "cell_type": "code",
   "execution_count": null,
   "metadata": {},
   "outputs": [],
   "source": [
    "BAB 1 SEARCHING\n",
    "\n",
    "1) LINIER SEARCHING\n",
    "Linear search adalah salah satu bentuk pemrograman untuk mencari suatu angka dalam list dengan pengecekan satu-satu\n",
    "bisa dilakukan dari angka pertama sampai angka terakhir ataupunn sebaliknya\n",
    "\n",
    "sederhananya menggunakan algoritma sebagai berikut :\n",
    "    A) pertama kita inputkan angka yang ingin dicari, kita sebut sebagai varial cari atau apapun itu (bebas)\n",
    "    B) setelah itu kita bandingkan dengan angka yang ada dalam list, dimulai dari indeks ke-0 sampai indeks terakhir\n",
    "    C) jika angka yang dicari berbeda dengan angka indeks ke-0, maka lanjutkan membandingkan angka yang dicari dengan angka\n",
    "       pada indeks selanjutnya\n",
    "    D) jika angka yang dicari sama dengan angka pada indeks ke-n, maka pencarian selesai (program diberhentikan) karena angka\n",
    "       yang dicari sudah ditemukan\n",
    "    E) jika sampai indeks terakhir angka yang dicari tidak ada yang sama, maka program diberhentikan karena angka yang dicari\n",
    "       tidak ada dalam list\n",
    "        \n",
    "catatan : membandingkannya bisa dimulai dari indeks ke-0 sampai indeks terakhir(panjang list - 1) ATAU bisa dimulai dari indeks\n",
    "          teerakhir sampai indeks ke-0"
   ]
  },
  {
   "cell_type": "code",
   "execution_count": 3,
   "metadata": {},
   "outputs": [
    {
     "name": "stdout",
     "output_type": "stream",
     "text": [
      "masukkan angka yang ingin dicari : 87\n",
      "angka  87  ditemukan pada indeks ke- 5\n"
     ]
    }
   ],
   "source": [
    "# linier search dengan membandingkan dari awal sampai akhir\n",
    "\n",
    "data = [56, 4, 1, 2, 76, 87, 100]\n",
    "\n",
    "cari = int(input(\"masukkan angka yang ingin dicari : \"))\n",
    "\n",
    "x = 0\n",
    "\n",
    "while x < len(data):\n",
    "    if cari == data[x]:\n",
    "        print('angka ',cari, ' ditemukan pada indeks ke-',x)\n",
    "        x = len(data) + 1\n",
    "    else:\n",
    "        x += 1\n",
    "\n",
    "if x == len(data):\n",
    "    print('angka ',cari,' tidak ditemukan dalam list')"
   ]
  },
  {
   "cell_type": "code",
   "execution_count": null,
   "metadata": {},
   "outputs": [],
   "source": [
    "BAB 1 SEARCHING\n",
    "\n",
    "2) BINARY SEARCH\n",
    "Binary Search adalah proses pencarian dengan membagi data menjadi dua dan dan diambil salah satunya untuk diproses dibagi lagi\n",
    "dengan syarat data harus sudah terurut\n",
    "\n",
    "sederhananya menggunakan algoritma sebagai berikut :\n",
    "    A) sediakan variabel untuk menyatakan indeks awal (contoh low) dengan nilai 0\n",
    "    B) sediakan variabel untuk menyatakan indeks terakhir (contoh high) dengan nilai panjang data - 1\n",
    "    C) sediakan variabel untuk menyatakan nilai tengah dengan nilai (low + high) dibagi 2\n",
    "    D) bandingkan nilai yang dicari dengan mid\n",
    "       jika sama maka pemrograman selesai karena angka sudah ditemukan\n",
    "       jika nilai yang dicari lebih besar dari mid maka ubah low menjadi mid + 1\n",
    "       jika nilai yang dicari lebih kecil dari mid maka ubah high menjadi mid - 1"
   ]
  },
  {
   "cell_type": "code",
   "execution_count": null,
   "metadata": {},
   "outputs": [],
   "source": [
    "data = [1,2,3,4,5,6,7,8,9,10]\n",
    "\n",
    "low = 0\n",
    "high = len(data)-1\n",
    "\n",
    "x = int(input(\"masukkan angka yang dicari : \"))\n",
    "z = 0\n",
    "\n",
    "while z == 0:\n",
    "    mid = (low + high)//2\n",
    "    if data[mid] == x:\n",
    "        print(\"angka ditemukan\")\n",
    "        z = 1\n",
    "    elif low < high:\n",
    "        if x > data[mid]:\n",
    "            low = mid + 1\n",
    "        else:\n",
    "            high = mid - 1\n",
    "    else:\n",
    "        z = 2\n",
    "    \n",
    "if z == 2:\n",
    "    print(\"angka tidak ditemukan\")"
   ]
  },
  {
   "cell_type": "code",
   "execution_count": null,
   "metadata": {},
   "outputs": [],
   "source": [
    "BAB 2 HASHING\n",
    "\n",
    "1) LINIER PROBLING\n",
    "merupakan proses memasukkan angka ke dalam list dengan pola dimasukkan pada indeks ke nilai mod panjang data dan jika sudah ada\n",
    "nilainya maka lanjut ke kotak selanjutnya\n",
    "\n",
    "sederhananya menggunakan algoritma sebagai berikut :\n",
    "    A) tentukan panjang list yang diinginkan atau banyak kotak yang disediakan\n",
    "    B) kotak = [None] dikali dengan banyak kotak yang disediakan\n",
    "    C) inputkan angka yang ingin dimasukkan (contoh x)\n",
    "    D) buat variabel baru untuk menunjukkan indeks (contoh i) dengan nilai angka yang dicari dimodulo banyak kotak\n",
    "    E) jika nilai dalam kotak pada indeks ke i itu kosong, maka masukkan nilai x ke kotak pada indeks tersebut\n",
    "    F) jika ada angka yang menempati maka i ditambah satu dan lakukan pengecekan lagi apa ada yang menempati atau tidak\n",
    "       jika kosong lakukan langka E\n",
    "       jika ada angka yang menempati lakukan langkah F kembali\n",
    "    "
   ]
  },
  {
   "cell_type": "code",
   "execution_count": null,
   "metadata": {},
   "outputs": [],
   "source": [
    "n = int(input(\"masukkan jumlah kotak yang ingin disediakan : \"))\n",
    "\n",
    "kotak = [None]*n\n",
    "\n",
    "print(kotak)\n",
    "\n",
    "loop = \"y\"\n",
    "\n",
    "while loop == \"y\":\n",
    "    \n",
    "    x = int(input(\"input angka ke dalam kotak : \"))\n",
    "    i = x%n\n",
    "\n",
    "    while kotak[i] is not x:\n",
    "        if kotak[i] == None:\n",
    "            kotak[i] = x\n",
    "        else:\n",
    "            i = (i + 1)%n\n",
    "    \n",
    "    print(kotak)\n",
    "\n",
    "    loop = input(\"ingin memasukkan angka ke dalam kotak lagi (y/t) : \")\n"
   ]
  },
  {
   "cell_type": "code",
   "execution_count": null,
   "metadata": {},
   "outputs": [],
   "source": [
    "BAB 2 HASHING\n",
    "\n",
    "2) QUADRATIC PROBLING\n",
    "merupakan proses memasukkan angka ke dalam list dengan pola dimasukkan pada indeks ke nilai mod panjang data dan jika sudah ada\n",
    "nilainya maka lanjut ke kotak selanjutnya dengan pertambahan kuadrat\n",
    "\n",
    "sederhananya menggunakan algoritma sebagai berikut :\n",
    "    A) tentukan panjang list yang diinginkan atau banyak kotak yang disediakan\n",
    "    B) kotak = [None] dikali dengan banyak kotak yang disediakan\n",
    "    C) inputkan angka yang ingin dimasukkan (contoh x)\n",
    "    D) buat variabel baru untuk menunjukkan indeks (contoh i) dengan nilai angka yang dicari dimodulo banyak kotak\n",
    "    E) jika nilai dalam kotak pada indeks ke i itu kosong, maka masukkan nilai x ke kotak pada indeks tersebut\n",
    "    F) jika ada angka yang menempati maka i ditambah oleh nilai kuadrat yang berurutan dan lakukan pengecekan lagi apa ada\n",
    "       yang menempati atau tidak\n",
    "       jika kosong lakukan langka E\n",
    "       jika ada angka yang menempati lakukan langkah F kembali\n",
    "\n",
    "catatan : linier mirip dengan quadratic, cuma beda pada penambahan nilai i saja\n",
    "          pada linier i ditambah dengan urutan 1,2,3,4,5,6,7,dst\n",
    "          pada quadratic i ditambah dengan urutan bilangan kuadrat 1,4,9,16,25,26,49,dst"
   ]
  },
  {
   "cell_type": "code",
   "execution_count": null,
   "metadata": {},
   "outputs": [],
   "source": [
    "n = int(input(\"masukkan jumlah kotak yang ingin disediakan : \"))\n",
    "\n",
    "kotak = [None]*n\n",
    "\n",
    "print(kotak)\n",
    "\n",
    "loop = \"y\"\n",
    "\n",
    "while loop == \"y\":\n",
    "    \n",
    "    x = int(input(\"input angka ke dalam kotak : \"))\n",
    "    i = x%n\n",
    "    j = i\n",
    "    k = 1\n",
    "    while kotak[i] is not x:\n",
    "        if kotak[i] == None:\n",
    "            kotak[i] = x\n",
    "        else:\n",
    "            i = (j + k**2)%n\n",
    "            k += 1\n",
    "\n",
    "    print(kotak)\n",
    "\n",
    "    loop = input(\"ingin memasukkan angka ke dalam kotak lagi (y/t) : \")"
   ]
  },
  {
   "cell_type": "code",
   "execution_count": null,
   "metadata": {},
   "outputs": [],
   "source": [
    "BAB 2 HASHING\n",
    "\n",
    "3) CHAINING (CLOSE ADDRESS)\n",
    "merupakan proses memasukkan angka ke dalam list dengan pola dimasukkan pada indeks ke nilai mod panjang data dan jika sudah ada\n",
    "nilainya maka ditumpuk dalam indeks tersebut\n",
    "\n",
    "sederhananya menggunakan algoritma sebagai berikut :\n",
    "    A) tentukan panjang list yang diinginkan atau banyak kotak yang disediakan\n",
    "    B) kotak = [None] dikali dengan banyak kotak yang disediakan\n",
    "    C) inputkan angka yang ingin dimasukkan (contoh x)\n",
    "    D) buat variabel baru untuk menunjukkan indeks (contoh i) dengan nilai angka yang dicari dimodulo banyak kotak\n",
    "    E) jika nilai dalam kotak pada indeks ke i itu kosong, maka masukkan nilai x ke kotak pada indeks tersebut\n",
    "    F) jika ada angka yang menempati maka i maka lakukan append ke kotak pada indeks tersebut"
   ]
  },
  {
   "cell_type": "code",
   "execution_count": null,
   "metadata": {},
   "outputs": [],
   "source": [
    "n = int(input(\"masukkan jumlah kotak yang ingin disediakan : \"))\n",
    "\n",
    "kotak = [None]*n\n",
    "\n",
    "print(kotak)\n",
    "\n",
    "loop = \"y\"\n",
    "\n",
    "while loop == \"y\":\n",
    "    \n",
    "    x = int(input(\"input angka ke dalam kotak : \"))\n",
    "    i = x%n\n",
    "    \n",
    "    if kotak[i] == None:\n",
    "        kotak[i] = [x]\n",
    "    else:\n",
    "        kotak[i].append(x)\n",
    "\n",
    "    print(kotak)\n",
    "\n",
    "    loop = input(\"ingin memasukkan angka ke dalam kotak lagi (y/t) : \")"
   ]
  },
  {
   "cell_type": "code",
   "execution_count": null,
   "metadata": {},
   "outputs": [],
   "source": [
    "BAB 3 SORTING\n",
    "\n",
    "1) BUBBLE SORT\n",
    "proses pengurutan angka dimana perbandingan dilakukan dari awal sampai akhir sebanyak panjang data -1\n",
    "\n",
    "sederhananya menggunakan algoritma sebagai berikut :\n",
    "    A) bandingkan indeks 0 dan 1, kemudian 1 dan 2, kemudian 2 dan 3, dst hingga indeks terakhir\n",
    "    B) jika lebih besar maka lakukan penukaran nilai"
   ]
  },
  {
   "cell_type": "code",
   "execution_count": 4,
   "metadata": {},
   "outputs": [
    {
     "name": "stdout",
     "output_type": "stream",
     "text": [
      "[1, 4, 7, 23, 56, 76, 666]\n"
     ]
    }
   ],
   "source": [
    "data = [56,23,76,1,4,666,7]\n",
    "\n",
    "for i in range(len(data)-1):\n",
    "    for j in range(len(data)-1):\n",
    "        if data[j] > data[j+1]:\n",
    "            data[j],data[j+1] = data[j+1],data[j]\n",
    "\n",
    "print(data)"
   ]
  },
  {
   "cell_type": "code",
   "execution_count": null,
   "metadata": {},
   "outputs": [],
   "source": [
    "BAB 3 SORTING\n",
    "\n",
    "2) SELECTION SORT\n",
    "proses pengurutan angka mirip dengan bubble sort tapi dengan proses pengulangan yang lebih sedikit\n",
    "\n",
    "sederhananya menggunakan algoritma sebagai berikut :\n",
    "    A) bandingkan indeks 0 dan 1, kemudian 1 dan 2, kemudian 2 dan 3, dst hingga indeks terakhir\n",
    "    B) jika lebih besar maka lakukan penukaran nilai\n",
    "    C) untuk pengulanan perbandingan selanjutnya tidak dimulai dari indeks 0 dan 1, tapi 1 dan 2, begitu juga seterusnya sampai\n",
    "       selesai"
   ]
  },
  {
   "cell_type": "code",
   "execution_count": 5,
   "metadata": {},
   "outputs": [
    {
     "name": "stdout",
     "output_type": "stream",
     "text": [
      "[1, 4, 7, 23, 56, 76, 666]\n"
     ]
    }
   ],
   "source": [
    "data = [56,23,76,1,4,666,7]\n",
    "\n",
    "a = 0\n",
    "\n",
    "while a < len(data)-1:\n",
    "    b = a\n",
    "    c = a + 1\n",
    "\n",
    "    while c < len(data):\n",
    "        if data[b] > data[c]:\n",
    "            b = c\n",
    "        c += 1\n",
    "\n",
    "    data[a],data[b] = data[b],data[a]\n",
    "    \n",
    "    a += 1\n",
    "\n",
    "print(data)"
   ]
  },
  {
   "cell_type": "code",
   "execution_count": null,
   "metadata": {},
   "outputs": [],
   "source": [
    "BAB 3 SORTING\n",
    "\n",
    "3) INSERTION SORT\n",
    "Data dicek satu per satu mulai dari yang kedua sampai dengan yang terakhir. Jika ditemukan data yang lebih kecil daripada\n",
    "data sebelumnya, maka data tersebut disisipkan pada posisi yang sesuai."
   ]
  },
  {
   "cell_type": "code",
   "execution_count": null,
   "metadata": {},
   "outputs": [],
   "source": [
    "# pengurutan dari terbesar ke terkecil\n",
    "\n",
    "data = [56,23,76,1,4,666,7]\n",
    "\n",
    "for i in range (len(data)-2,-1,-1):\n",
    "    \n",
    "    value = data[i]\n",
    "    hole = i\n",
    "\n",
    "    for j in range (i,len(data)-1):\n",
    "        if data[hole+1] > value:\n",
    "            data[hole] = data[hole+1]\n",
    "        else:\n",
    "            break\n",
    "        hole += 1\n",
    "    data[hole] = value\n",
    "    \n",
    "print(\"data = \",data)"
   ]
  },
  {
   "cell_type": "code",
   "execution_count": null,
   "metadata": {},
   "outputs": [],
   "source": [
    "BAB 3 SORTING\n",
    "\n",
    "4) QUICK SORT\n",
    "Quicksort dimulai dengan menscan daftar yang disortir untuk nilai median. Nilai ini, yang disebut tumpuan (pivot),\n",
    "kemudian dipindahkan ke satu sisi pada daftar dan butir-butir yang nilainya lebih besar dari tumpuan di pindahkan ke sisi lain.\n",
    "\n",
    "sederhananya menggunakan algoritma sebagai berikut :\n",
    "    A) tentukan pivot alias nilai tengah dari list\n",
    "    B) kemudian pisah angka yang lebih kecil dari pivot dimasukkan ke bagian sebelah kiri sedangkan angka yang lebih besar\n",
    "       dari pivot dimasukkan ke bagian sebelah kanan\n",
    "    C) lakukan langkah B pada bagian kiri dan kanan yang sudah dipisah sebelumnya\n",
    "    D) setalah semuanya selesai sebagai langkah akhir lakukan penyatuan antara bagian kiri, bagian tengah, dan bagian kanan\n",
    "       sehingga menjadi list yang sudah terurut"
   ]
  },
  {
   "cell_type": "code",
   "execution_count": null,
   "metadata": {},
   "outputs": [],
   "source": [
    "# pengurutan dari terbesar ke terkecil\n",
    "\n",
    "def quick(data):\n",
    "    left = []\n",
    "    right = []\n",
    "    mid = len(data)//2\n",
    "    pivot = data[mid]\n",
    "    middle = [pivot]\n",
    "    for i in range (0,mid):\n",
    "        if pivot < data[i]:\n",
    "            left.append(data[i])\n",
    "        elif pivot > data[i]:\n",
    "            right.append(data[i])\n",
    "    for j in range (mid+1,len(data)):\n",
    "        if pivot < data[j]:\n",
    "            left.append(data[j])\n",
    "        elif pivot > data[j]:\n",
    "            right.append(data[j])\n",
    "    if len(left) > 1:\n",
    "        left = quick(left)\n",
    "    if len(right) > 1:\n",
    "        right = quick(right)\n",
    "\n",
    "    final = left + middle + right\n",
    "    return final\n",
    "    \n",
    "\n",
    "A = [56,23,76,1,4,666,7]\n",
    "\n",
    "print(\"Hasil sorting : \", quick(A))"
   ]
  },
  {
   "cell_type": "code",
   "execution_count": null,
   "metadata": {},
   "outputs": [],
   "source": [
    "BAB 3 SORTING\n",
    "\n",
    "5) MERGE SORT\n",
    "Metode penggabungan biasanya digunakan pada pengurutan berkas. Prinsip dari metode penggabungan sebagai berikut : mula-mula\n",
    "diberikan dua kumpulan data yang sudah dalam keadaan urut. Kedua kumpulan data tersebut harus dijadikan satu table sehingga\n",
    "dalam keadaan urut."
   ]
  },
  {
   "cell_type": "code",
   "execution_count": null,
   "metadata": {},
   "outputs": [],
   "source": [
    "def MergedSort(A):\n",
    "    n = len(A)\n",
    "    if (n<2):\n",
    "       return\n",
    "    mid = len(A)//2\n",
    "    left = A[:mid]\n",
    "    right = A[mid:]\n",
    "    MergedSort(left)\n",
    "    MergedSort(right)\n",
    "    i=0\n",
    "    j=0\n",
    "    k=0\n",
    "    while i < len(left) and j < len(right):\n",
    "        if left[i] < right[j]:\n",
    "            A[k]=left[i]\n",
    "            i=i+1\n",
    "        else:\n",
    "            A[k]=right[j]\n",
    "            j=j+1\n",
    "        k=k+1\n",
    "\n",
    "    while i < len(left):\n",
    "        A[k]=left[i]\n",
    "        i=i+1\n",
    "        k=k+1\n",
    "\n",
    "    while j < len(right):\n",
    "        A[k]=right[j]\n",
    "        j=j+1\n",
    "        k=k+1\n",
    "\n",
    "data = [56,23,76,1,4,666,7]\n",
    "MergedSort(data)\n",
    "print(data)"
   ]
  },
  {
   "cell_type": "code",
   "execution_count": null,
   "metadata": {},
   "outputs": [],
   "source": [
    "BAB 3 SORTING\n",
    "\n",
    "6) SHELL SORT\n",
    "Metode ini disebut juga dengan metode pertambahan menurun (diminishing increment). Metode ini mengurutkan data dengan cara\n",
    "membandingkan suatu data dengan data lain yang memiliki jarak tertentu, kemudian dilakukan penukaran bila diperlukan"
   ]
  },
  {
   "cell_type": "code",
   "execution_count": null,
   "metadata": {},
   "outputs": [],
   "source": [
    "def shellSort(alist):\n",
    "    sublistcount = len(alist)//2\n",
    "    while sublistcount > 0:\n",
    "\n",
    "      for startposition in range(sublistcount):\n",
    "        gapInsertionSort(alist,startposition,sublistcount)\n",
    "      sublistcount = sublistcount // 2\n",
    "\n",
    "def gapInsertionSort(alist,start,gap):\n",
    "    for i in range(start+gap,len(alist),gap):\n",
    "\n",
    "        currentvalue = alist[i]\n",
    "        position = i\n",
    "\n",
    "        while position>=gap and alist[position-gap]>currentvalue:\n",
    "            alist[position]=alist[position-gap]\n",
    "            position = position-gap\n",
    "\n",
    "        alist[position]=currentvalue\n",
    "        \n",
    "data = [56,23,76,1,4,666,7]\n",
    "shellSort(data)\n",
    "print(data)"
   ]
  }
 ],
 "metadata": {
  "kernelspec": {
   "display_name": "Python 3",
   "language": "python",
   "name": "python3"
  },
  "language_info": {
   "codemirror_mode": {
    "name": "ipython",
    "version": 3
   },
   "file_extension": ".py",
   "mimetype": "text/x-python",
   "name": "python",
   "nbconvert_exporter": "python",
   "pygments_lexer": "ipython3",
   "version": "3.7.1"
  }
 },
 "nbformat": 4,
 "nbformat_minor": 2
}
